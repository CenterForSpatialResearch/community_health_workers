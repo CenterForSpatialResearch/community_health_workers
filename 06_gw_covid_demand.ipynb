{
 "cells": [
  {
   "cell_type": "code",
   "execution_count": 291,
   "metadata": {},
   "outputs": [],
   "source": [
    "import pandas as pd\n",
    "pd.options.display.max_columns =200\n",
    "import numpy as np\n",
    "from datetime import datetime, timedelta"
   ]
  },
  {
   "cell_type": "markdown",
   "metadata": {},
   "source": [
    "#### Inputs\n",
    "\n",
    "p = County Population  \n",
    "cl = County 14 day caseload  \n",
    "\n",
    "#### Parameters\n",
    "base = contact tracers per total population   \n",
    "con = contacts per case  \n",
    "case_int = number of confirmed case interviews per day  \n",
    "cont_not = number of contact notifications per day  \n",
    "cont_follow_up = number of contact follow ups per day  \n",
    "follow_freq = follow up frequency (per contact per week)  \n",
    "\n",
    "fl = total number of follow up case encounters  \n",
    "\n",
    "\n",
    "Demand = \n",
    "base_ct_need = (p/10000)*base\n",
    "case_int_need = (cl/case_int)/5\n",
    "contact_notify_need = ((cl*con)/cont_not)/5\n",
    "\n",
    "contact_follow_up = sum(dailycontact follow up)\n",
    "\n",
    "\n",
    "daily contact follow up: (day number of cases * (14+(-days from current)) / 7)* follow_freq * contacts per case\n",
    "\n",
    "final_need = base_ct_need + case_int_need + contact_notify_need + contact_follow_up\n"
   ]
  },
  {
   "cell_type": "code",
   "execution_count": 292,
   "metadata": {},
   "outputs": [],
   "source": [
    "#### replace with desired (or most recent) date in NY Times dataset:\n",
    "covid_data_update_date = '2020-06-08'\n",
    "\n",
    "#### Parameters for GW model\n",
    "base_need = 15 \n",
    "contacts = 10\n",
    "case_interviews = 6\n",
    "cont_notifications = 12\n",
    "contact_followup = 32\n",
    "followup_freq = 7"
   ]
  },
  {
   "cell_type": "code",
   "execution_count": 293,
   "metadata": {},
   "outputs": [],
   "source": [
    "## set up 14 day period\n",
    "data_date_dt = pd.to_datetime(covid_data_update_date,infer_datetime_format=True)\n",
    "N = 14\n",
    "date_N_days_ago = data_date_dt - timedelta(days=N)\n",
    "\n",
    "date_N1_days_ago = data_date_dt - timedelta(days=N+1)"
   ]
  },
  {
   "cell_type": "code",
   "execution_count": 294,
   "metadata": {},
   "outputs": [],
   "source": [
    "## data imports\n",
    "svi = pd.read_csv(\"data/svi/svi_2018_counties_state_ranked.csv\")\n",
    "covid = pd.read_csv(\"https://raw.githubusercontent.com/nytimes/covid-19-data/master/us-counties.csv\")"
   ]
  },
  {
   "cell_type": "code",
   "execution_count": 295,
   "metadata": {},
   "outputs": [],
   "source": [
    "covid['dt'] = pd.to_datetime(covid['date'], infer_datetime_format=True)"
   ]
  },
  {
   "cell_type": "code",
   "execution_count": 296,
   "metadata": {},
   "outputs": [],
   "source": [
    "## subset last last 15 days\n",
    "covid_last15 = covid[(covid['dt']>date_N1_days_ago) & (covid['dt']<= data_date_dt)].copy()\n",
    "covid_last15['dt_time_delta'] = covid_last15['dt']-data_date_dt\n",
    " "
   ]
  },
  {
   "cell_type": "code",
   "execution_count": 297,
   "metadata": {},
   "outputs": [],
   "source": [
    "## calculate new daily cases\n",
    "\n",
    "## sort values by county and date\n",
    "covid_last15.sort_values(by=['fips','dt'],inplace=True)\n",
    "## remove data with 'unknown' counties\n",
    "covid_last15 = covid_last15[covid_last15['fips'].notnull()].copy()\n",
    "\n",
    "## calculate daily difference in number of cases\n",
    "covid_last15['new_cases']=covid_last15.groupby('fips')['cases'].transform(lambda x: x.diff())\n",
    "covid_last15.sort_index(inplace=True)\n"
   ]
  },
  {
   "cell_type": "code",
   "execution_count": 298,
   "metadata": {},
   "outputs": [],
   "source": [
    "## select just last 14 days now that we have daily differences with 15th day as baseline\n",
    "covid_last14 = covid_last15[(covid_last15['dt']>date_N_days_ago) & (covid_last15['dt']<= data_date_dt)].copy()\n"
   ]
  },
  {
   "cell_type": "code",
   "execution_count": 299,
   "metadata": {},
   "outputs": [],
   "source": [
    "## calculate follow up encounter demand\n",
    "covid_last14['fe_demand'] = covid_last14['new_cases']*(14+((covid_last14['dt']-data_date_dt).dt.days))/7*follow_freq*con\n"
   ]
  },
  {
   "cell_type": "code",
   "execution_count": 300,
   "metadata": {},
   "outputs": [
    {
     "name": "stderr",
     "output_type": "stream",
     "text": [
      "<ipython-input-300-27d2457dc4a4>:3: FutureWarning: Indexing with multiple keys (implicitly converted to a tuple of keys) will be deprecated, use a list instead.\n",
      "  covid_last14_stats = covid_last14.groupby(['fips'])['new_cases','fe_demand'].sum()\n"
     ]
    }
   ],
   "source": [
    "## group by to get case load and follow up demand values for each county\n",
    "\n",
    "covid_last14_stats = covid_last14.groupby(['fips'])['new_cases','fe_demand'].sum()"
   ]
  },
  {
   "cell_type": "code",
   "execution_count": 301,
   "metadata": {},
   "outputs": [],
   "source": [
    "# adding population information from CDC svi dataset\n",
    "\n",
    "covid_last14_stats = covid_last14_stats.reset_index()\n",
    "covid_last14_stats['fips'] = covid_last14_stats['fips'].astype(int)\n",
    "\n",
    "covid_last14_stats = covid_last14_stats.merge(svi[['FIPS','E_TOTPOP']],left_on='fips',right_on='FIPS')"
   ]
  },
  {
   "cell_type": "code",
   "execution_count": 302,
   "metadata": {},
   "outputs": [],
   "source": [
    "## calculations for each type of demand\n",
    "\n",
    "covid_last14_stats['base_ct'] = (covid_last14_stats['E_TOTPOP']/100000)*base_need\n",
    "covid_last14_stats['case_int_need'] = covid_last14_stats['new_cases']/case_interviews/5\n",
    "covid_last14_stats['contact_notify_need'] = (covid_last14_stats['new_cases']*contacts/cont_notifications)/5\n",
    "covid_last14_stats['contact_follow_need'] = covid_last14_stats['fe_demand']/(contact_followup*5*2)\n",
    "covid_last14_stats['covid_need'] = covid_last14_stats['case_int_need']+covid_last14_stats['contact_notify_need']+covid_last14_stats['contact_follow_need']\n",
    "covid_last14_stats['total_need'] = covid_last14_stats[['covid_need','base_ct']].max(axis=1)"
   ]
  },
  {
   "cell_type": "code",
   "execution_count": 303,
   "metadata": {},
   "outputs": [],
   "source": [
    "## saving simplified form\n",
    "covid_demand = covid_last14_stats[['fips','total_need']]"
   ]
  },
  {
   "cell_type": "code",
   "execution_count": 304,
   "metadata": {},
   "outputs": [
    {
     "data": {
      "text/html": [
       "<div>\n",
       "<style scoped>\n",
       "    .dataframe tbody tr th:only-of-type {\n",
       "        vertical-align: middle;\n",
       "    }\n",
       "\n",
       "    .dataframe tbody tr th {\n",
       "        vertical-align: top;\n",
       "    }\n",
       "\n",
       "    .dataframe thead th {\n",
       "        text-align: right;\n",
       "    }\n",
       "</style>\n",
       "<table border=\"1\" class=\"dataframe\">\n",
       "  <thead>\n",
       "    <tr style=\"text-align: right;\">\n",
       "      <th></th>\n",
       "      <th>fips</th>\n",
       "      <th>total_need</th>\n",
       "    </tr>\n",
       "  </thead>\n",
       "  <tbody>\n",
       "    <tr>\n",
       "      <th>0</th>\n",
       "      <td>1001</td>\n",
       "      <td>42.50000</td>\n",
       "    </tr>\n",
       "    <tr>\n",
       "      <th>1</th>\n",
       "      <td>1003</td>\n",
       "      <td>31.21605</td>\n",
       "    </tr>\n",
       "    <tr>\n",
       "      <th>2</th>\n",
       "      <td>1005</td>\n",
       "      <td>33.78125</td>\n",
       "    </tr>\n",
       "    <tr>\n",
       "      <th>3</th>\n",
       "      <td>1007</td>\n",
       "      <td>7.97500</td>\n",
       "    </tr>\n",
       "    <tr>\n",
       "      <th>4</th>\n",
       "      <td>1009</td>\n",
       "      <td>10.95000</td>\n",
       "    </tr>\n",
       "    <tr>\n",
       "      <th>...</th>\n",
       "      <td>...</td>\n",
       "      <td>...</td>\n",
       "    </tr>\n",
       "    <tr>\n",
       "      <th>2981</th>\n",
       "      <td>56037</td>\n",
       "      <td>6.61755</td>\n",
       "    </tr>\n",
       "    <tr>\n",
       "      <th>2982</th>\n",
       "      <td>56039</td>\n",
       "      <td>3.45885</td>\n",
       "    </tr>\n",
       "    <tr>\n",
       "      <th>2983</th>\n",
       "      <td>56041</td>\n",
       "      <td>7.41250</td>\n",
       "    </tr>\n",
       "    <tr>\n",
       "      <th>2984</th>\n",
       "      <td>56043</td>\n",
       "      <td>2.81875</td>\n",
       "    </tr>\n",
       "    <tr>\n",
       "      <th>2985</th>\n",
       "      <td>56045</td>\n",
       "      <td>1.06500</td>\n",
       "    </tr>\n",
       "  </tbody>\n",
       "</table>\n",
       "<p>2986 rows × 2 columns</p>\n",
       "</div>"
      ],
      "text/plain": [
       "       fips  total_need\n",
       "0      1001    42.50000\n",
       "1      1003    31.21605\n",
       "2      1005    33.78125\n",
       "3      1007     7.97500\n",
       "4      1009    10.95000\n",
       "...     ...         ...\n",
       "2981  56037     6.61755\n",
       "2982  56039     3.45885\n",
       "2983  56041     7.41250\n",
       "2984  56043     2.81875\n",
       "2985  56045     1.06500\n",
       "\n",
       "[2986 rows x 2 columns]"
      ]
     },
     "execution_count": 304,
     "metadata": {},
     "output_type": "execute_result"
    }
   ],
   "source": [
    "covid_demand"
   ]
  }
 ],
 "metadata": {
  "kernelspec": {
   "display_name": "Python 3.8.2 64-bit ('chw': conda)",
   "language": "python",
   "name": "python38264bitchwconda307bd7988bcf47d8bde88d86c86192e5"
  },
  "language_info": {
   "codemirror_mode": {
    "name": "ipython",
    "version": 3
   },
   "file_extension": ".py",
   "mimetype": "text/x-python",
   "name": "python",
   "nbconvert_exporter": "python",
   "pygments_lexer": "ipython3",
   "version": "3.8.2"
  }
 },
 "nbformat": 4,
 "nbformat_minor": 4
}
